{
 "cells": [
  {
   "cell_type": "markdown",
   "metadata": {},
   "source": [
    "# Esercizio 12.1"
   ]
  },
  {
   "cell_type": "code",
   "execution_count": 1,
   "metadata": {},
   "outputs": [
    {
     "name": "stderr",
     "output_type": "stream",
     "text": [
      "2024-06-07 14:04:52.666210: I tensorflow/core/util/port.cc:113] oneDNN custom operations are on. You may see slightly different numerical results due to floating-point round-off errors from different computation orders. To turn them off, set the environment variable `TF_ENABLE_ONEDNN_OPTS=0`.\n",
      "2024-06-07 14:04:52.669037: I external/local_tsl/tsl/cuda/cudart_stub.cc:31] Could not find cuda drivers on your machine, GPU will not be used.\n",
      "2024-06-07 14:04:52.706453: E external/local_xla/xla/stream_executor/cuda/cuda_dnn.cc:9261] Unable to register cuDNN factory: Attempting to register factory for plugin cuDNN when one has already been registered\n",
      "2024-06-07 14:04:52.706479: E external/local_xla/xla/stream_executor/cuda/cuda_fft.cc:607] Unable to register cuFFT factory: Attempting to register factory for plugin cuFFT when one has already been registered\n",
      "2024-06-07 14:04:52.707727: E external/local_xla/xla/stream_executor/cuda/cuda_blas.cc:1515] Unable to register cuBLAS factory: Attempting to register factory for plugin cuBLAS when one has already been registered\n",
      "2024-06-07 14:04:52.713930: I external/local_tsl/tsl/cuda/cudart_stub.cc:31] Could not find cuda drivers on your machine, GPU will not be used.\n",
      "2024-06-07 14:04:52.714502: I tensorflow/core/platform/cpu_feature_guard.cc:182] This TensorFlow binary is optimized to use available CPU instructions in performance-critical operations.\n",
      "To enable the following instructions: AVX2 AVX512F AVX512_VNNI FMA, in other operations, rebuild TensorFlow with the appropriate compiler flags.\n",
      "2024-06-07 14:04:53.501103: W tensorflow/compiler/tf2tensorrt/utils/py_utils.cc:38] TF-TRT Warning: Could not find TensorRT\n"
     ]
    }
   ],
   "source": [
    "#import os\n",
    "#os.environ['KMP_DUPLICATE_LIB_OK']='True' #This is needed in my Anaconda+MacOsX installation; leave it commented.\n",
    "import tensorflow as tf\n",
    "from tensorflow import keras\n",
    "import os\n",
    "import numpy as np\n",
    "import matplotlib.pyplot as plt\n",
    "seed=0\n",
    "np.random.seed(seed) # fix random seed\n",
    "tf.random.set_seed(seed)"
   ]
  },
  {
   "cell_type": "code",
   "execution_count": 2,
   "metadata": {},
   "outputs": [
    {
     "name": "stdout",
     "output_type": "stream",
     "text": [
      "X_train shape: (60000, 28, 28)\n",
      "Y_train shape: (60000,)\n"
     ]
    }
   ],
   "source": [
    "from keras.datasets import mnist\n",
    "\n",
    "# input image dimensions\n",
    "img_rows, img_cols = 28, 28 # number of pixels \n",
    "# output\n",
    "num_classes = 10 # 10 digits\n",
    "\n",
    "# the data, split between train and test sets\n",
    "(X_train, Y_train), (X_test, Y_test) = mnist.load_data()\n",
    "\n",
    "print('X_train shape:', X_train.shape)\n",
    "print('Y_train shape:', Y_train.shape)"
   ]
  },
  {
   "cell_type": "code",
   "execution_count": 3,
   "metadata": {},
   "outputs": [
    {
     "data": {
      "text/plain": [
       "array([[1., 0., 0.],\n",
       "       [0., 0., 1.],\n",
       "       [0., 1., 0.],\n",
       "       [0., 0., 1.],\n",
       "       [1., 0., 0.]], dtype=float32)"
      ]
     },
     "execution_count": 3,
     "metadata": {},
     "output_type": "execute_result"
    }
   ],
   "source": [
    "# Consider an array of 5 labels out of a set of 3 classes {0, 1, 2}:\n",
    "labels = np.array([0, 2, 1, 2, 0])\n",
    "# `to_categorical` converts this into a matrix with as many columns as there are classes.\n",
    "# The number of rows stays the same.\n",
    "keras.utils.to_categorical(labels) # accende la posizione"
   ]
  },
  {
   "cell_type": "code",
   "execution_count": 4,
   "metadata": {},
   "outputs": [
    {
     "name": "stdout",
     "output_type": "stream",
     "text": [
      "X_train shape: (60000, 784)\n",
      "X_test shape: (10000, 784)\n",
      "\n",
      "an example of a data point with label 4\n"
     ]
    },
    {
     "data": {
      "image/png": "[encoded data removed]",
      "text/plain": [
       "<Figure size 480x480 with 1 Axes>"
      ]
     },
     "metadata": {},
     "output_type": "display_data"
    },
    {
     "name": "stdout",
     "output_type": "stream",
     "text": [
      "... and with label [0. 0. 0. 0. 1. 0. 0. 0. 0. 0.] after to_categorical\n",
      "\n",
      "X_train shape: (60000, 784)\n",
      "Y_train shape: (60000, 10)\n"
     ]
    }
   ],
   "source": [
    "# reshape data, it could depend on Keras backend\n",
    "X_train = X_train.reshape(X_train.shape[0], img_rows*img_cols)\n",
    "X_test = X_test.reshape(X_test.shape[0], img_rows*img_cols)\n",
    "print('X_train shape:', X_train.shape)\n",
    "print('X_test shape:', X_test.shape)\n",
    "print()\n",
    "\n",
    "# cast to floats\n",
    "X_train = X_train.astype('float32')\n",
    "X_test = X_test.astype('float32')\n",
    "\n",
    "# rescale data in interval [0,1]\n",
    "X_train /= 255\n",
    "X_test /= 255\n",
    "\n",
    "# look at an example of data point\n",
    "print('an example of a data point with label', Y_train[20])\n",
    "# matshow: display a matrix in a new figure window\n",
    "plt.matshow(X_train[20,:].reshape(28,28),cmap='binary')\n",
    "plt.show()\n",
    "\n",
    "# convert class vectors to binary class matrices, e.g. for use with categorical_crossentropy\n",
    "Y_train = keras.utils.to_categorical(Y_train, num_classes)\n",
    "Y_test = keras.utils.to_categorical(Y_test, num_classes)\n",
    "print('... and with label', Y_train[20], 'after to_categorical')\n",
    "print()\n",
    "print('X_train shape:', X_train.shape)\n",
    "print('Y_train shape:', Y_train.shape)"
   ]
  },
  {
   "cell_type": "code",
   "execution_count": 5,
   "metadata": {},
   "outputs": [
    {
     "name": "stdout",
     "output_type": "stream",
     "text": [
      "Model architecture created successfully!\n"
     ]
    }
   ],
   "source": [
    "from keras.models import Sequential\n",
    "from keras.layers import Dense, Dropout\n",
    "\n",
    "def create_DNN():\n",
    "    # instantiate model\n",
    "    model = Sequential()\n",
    "    # add a dense all-to-all relu layer\n",
    "    model.add(Dense(400,input_shape=(img_rows*img_cols,), activation='relu'))\n",
    "    # add a dense all-to-all relu layer\n",
    "    model.add(Dense(100, activation='relu'))\n",
    "    # apply dropout with rate 0.5\n",
    "    model.add(Dropout(0.5))\n",
    "    # soft-max layer\n",
    "    model.add(Dense(num_classes, activation='softmax'))\n",
    "    \n",
    "    return model\n",
    "\n",
    "print('Model architecture created successfully!')"
   ]
  },
  {
   "cell_type": "code",
   "execution_count": 6,
   "metadata": {},
   "outputs": [
    {
     "name": "stdout",
     "output_type": "stream",
     "text": [
      "Model compiled successfully and ready to be trained.\n"
     ]
    }
   ],
   "source": [
    "from keras.optimizers import SGD, Adam, RMSprop, Adagrad, Adadelta, Adamax, Nadam\n",
    "\n",
    "def compile_model1():\n",
    "    # create the model\n",
    "    model=create_DNN()\n",
    "    # compile the model\n",
    "    model.compile(loss=keras.losses.categorical_crossentropy,\n",
    "                  optimizer=SGD(),\n",
    "                  metrics=['acc'])\n",
    "    return model\n",
    "\n",
    "def compile_model2():\n",
    "    # create the model\n",
    "    model=create_DNN()\n",
    "    # compile the model\n",
    "    model.compile(loss=keras.losses.categorical_crossentropy,\n",
    "                  optimizer=Adam(),\n",
    "                  metrics=['acc'])\n",
    "    return model\n",
    "\n",
    "def compile_model3():\n",
    "    # create the model\n",
    "    model=create_DNN()\n",
    "    # compile the model\n",
    "    model.compile(loss=keras.losses.categorical_crossentropy,\n",
    "                  optimizer=Adagrad(),\n",
    "                  metrics=['acc'])\n",
    "    return model\n",
    "\n",
    "def compile_model4():\n",
    "    # create the model\n",
    "    model=create_DNN()\n",
    "    # compile the model\n",
    "    model.compile(loss=keras.losses.categorical_crossentropy,\n",
    "                  optimizer=Adadelta(),\n",
    "                  metrics=['acc'])\n",
    "    return model\n",
    "\n",
    "def compile_model5():\n",
    "    # create the model\n",
    "    model=create_DNN()\n",
    "    # compile the model\n",
    "    model.compile(loss=keras.losses.categorical_crossentropy,\n",
    "                  optimizer=Adamax(),\n",
    "                  metrics=['acc'])\n",
    "    return model\n",
    "\n",
    "print('Model compiled successfully and ready to be trained.')"
   ]
  },
  {
   "cell_type": "code",
   "execution_count": 7,
   "metadata": {},
   "outputs": [
    {
     "name": "stdout",
     "output_type": "stream",
     "text": [
      "Epoch 1/80\n",
      "1875/1875 [==============================] - 12s 6ms/step - loss: 0.4152 - acc: 0.8812 - val_loss: 0.1677 - val_acc: 0.9494\n",
      "Epoch 2/80\n",
      "1875/1875 [==============================] - 9s 5ms/step - loss: 0.1995 - acc: 0.9439 - val_loss: 0.1246 - val_acc: 0.9614\n",
      "Epoch 3/80\n",
      "1875/1875 [==============================] - 9s 5ms/step - loss: 0.1471 - acc: 0.9589 - val_loss: 0.0982 - val_acc: 0.9686\n",
      "Epoch 4/80\n",
      "1875/1875 [==============================] - 14s 8ms/step - loss: 0.1176 - acc: 0.9664 - val_loss: 0.0859 - val_acc: 0.9726\n",
      "Epoch 5/80\n",
      "1875/1875 [==============================] - 16s 8ms/step - loss: 0.0970 - acc: 0.9722 - val_loss: 0.0795 - val_acc: 0.9748\n",
      "Epoch 6/80\n",
      "1875/1875 [==============================] - 12s 6ms/step - loss: 0.0834 - acc: 0.9766 - val_loss: 0.0724 - val_acc: 0.9767\n",
      "Epoch 7/80\n",
      "1875/1875 [==============================] - 11s 6ms/step - loss: 0.0713 - acc: 0.9786 - val_loss: 0.0702 - val_acc: 0.9768\n",
      "Epoch 8/80\n",
      "1875/1875 [==============================] - 9s 5ms/step - loss: 0.0621 - acc: 0.9824 - val_loss: 0.0650 - val_acc: 0.9810\n",
      "Epoch 9/80\n",
      "1875/1875 [==============================] - 9s 5ms/step - loss: 0.0556 - acc: 0.9840 - val_loss: 0.0622 - val_acc: 0.9797\n",
      "Epoch 10/80\n",
      "1875/1875 [==============================] - 9s 5ms/step - loss: 0.0487 - acc: 0.9858 - val_loss: 0.0618 - val_acc: 0.9802\n",
      "Epoch 11/80\n",
      "1875/1875 [==============================] - 9s 5ms/step - loss: 0.0446 - acc: 0.9872 - val_loss: 0.0666 - val_acc: 0.9793\n",
      "Epoch 12/80\n",
      "1875/1875 [==============================] - 9s 5ms/step - loss: 0.0394 - acc: 0.9889 - val_loss: 0.0628 - val_acc: 0.9808\n",
      "Epoch 13/80\n",
      "1875/1875 [==============================] - 9s 5ms/step - loss: 0.0347 - acc: 0.9897 - val_loss: 0.0605 - val_acc: 0.9816\n",
      "Epoch 14/80\n",
      "1875/1875 [==============================] - 9s 5ms/step - loss: 0.0313 - acc: 0.9906 - val_loss: 0.0589 - val_acc: 0.9806\n",
      "Epoch 15/80\n",
      "1875/1875 [==============================] - 9s 5ms/step - loss: 0.0282 - acc: 0.9918 - val_loss: 0.0582 - val_acc: 0.9822\n",
      "Epoch 16/80\n",
      "1875/1875 [==============================] - 9s 5ms/step - loss: 0.0265 - acc: 0.9920 - val_loss: 0.0587 - val_acc: 0.9818\n",
      "Epoch 17/80\n",
      "1875/1875 [==============================] - 9s 5ms/step - loss: 0.0234 - acc: 0.9935 - val_loss: 0.0596 - val_acc: 0.9838\n",
      "Epoch 18/80\n",
      "1875/1875 [==============================] - 9s 5ms/step - loss: 0.0215 - acc: 0.9936 - val_loss: 0.0606 - val_acc: 0.9830\n",
      "Epoch 19/80\n",
      "1875/1875 [==============================] - 9s 5ms/step - loss: 0.0197 - acc: 0.9946 - val_loss: 0.0639 - val_acc: 0.9824\n",
      "Epoch 20/80\n",
      "1875/1875 [==============================] - 9s 5ms/step - loss: 0.0184 - acc: 0.9947 - val_loss: 0.0576 - val_acc: 0.9846\n",
      "Epoch 21/80\n",
      "1875/1875 [==============================] - 9s 5ms/step - loss: 0.0168 - acc: 0.9952 - val_loss: 0.0591 - val_acc: 0.9835\n",
      "Epoch 22/80\n",
      "1875/1875 [==============================] - 9s 5ms/step - loss: 0.0148 - acc: 0.9960 - val_loss: 0.0571 - val_acc: 0.9839\n",
      "Epoch 23/80\n",
      "1875/1875 [==============================] - 9s 5ms/step - loss: 0.0138 - acc: 0.9958 - val_loss: 0.0597 - val_acc: 0.9830\n",
      "Epoch 24/80\n",
      "1875/1875 [==============================] - 9s 5ms/step - loss: 0.0133 - acc: 0.9962 - val_loss: 0.0615 - val_acc: 0.9831\n",
      "Epoch 25/80\n",
      "1875/1875 [==============================] - 9s 5ms/step - loss: 0.0114 - acc: 0.9967 - val_loss: 0.0611 - val_acc: 0.9837\n",
      "Epoch 26/80\n",
      "1875/1875 [==============================] - 9s 5ms/step - loss: 0.0107 - acc: 0.9970 - val_loss: 0.0599 - val_acc: 0.9848\n",
      "Epoch 27/80\n",
      "1875/1875 [==============================] - 11s 6ms/step - loss: 0.0096 - acc: 0.9976 - val_loss: 0.0608 - val_acc: 0.9847\n",
      "Epoch 28/80\n",
      "1875/1875 [==============================] - 9s 5ms/step - loss: 0.0097 - acc: 0.9972 - val_loss: 0.0632 - val_acc: 0.9841\n",
      "Epoch 29/80\n",
      "1875/1875 [==============================] - 12s 6ms/step - loss: 0.0083 - acc: 0.9976 - val_loss: 0.0642 - val_acc: 0.9834\n",
      "Epoch 30/80\n",
      "1875/1875 [==============================] - 9s 5ms/step - loss: 0.0080 - acc: 0.9978 - val_loss: 0.0611 - val_acc: 0.9842\n",
      "Epoch 31/80\n",
      "1875/1875 [==============================] - 9s 5ms/step - loss: 0.0075 - acc: 0.9979 - val_loss: 0.0649 - val_acc: 0.9839\n",
      "Epoch 32/80\n",
      "1875/1875 [==============================] - 8s 5ms/step - loss: 0.0070 - acc: 0.9982 - val_loss: 0.0672 - val_acc: 0.9841\n",
      "Epoch 33/80\n",
      "1875/1875 [==============================] - 9s 5ms/step - loss: 0.0066 - acc: 0.9980 - val_loss: 0.0661 - val_acc: 0.9842\n",
      "Epoch 34/80\n",
      "1875/1875 [==============================] - 9s 5ms/step - loss: 0.0063 - acc: 0.9984 - val_loss: 0.0652 - val_acc: 0.9843\n",
      "Epoch 35/80\n",
      "1875/1875 [==============================] - 8s 4ms/step - loss: 0.0061 - acc: 0.9984 - val_loss: 0.0682 - val_acc: 0.9844\n",
      "Epoch 36/80\n",
      "1875/1875 [==============================] - 8s 5ms/step - loss: 0.0057 - acc: 0.9985 - val_loss: 0.0659 - val_acc: 0.9850\n",
      "Epoch 37/80\n",
      "1875/1875 [==============================] - 8s 4ms/step - loss: 0.0056 - acc: 0.9985 - val_loss: 0.0674 - val_acc: 0.9854\n",
      "Epoch 38/80\n",
      "1875/1875 [==============================] - 9s 5ms/step - loss: 0.0049 - acc: 0.9987 - val_loss: 0.0688 - val_acc: 0.9842\n",
      "Epoch 39/80\n",
      "1875/1875 [==============================] - 8s 4ms/step - loss: 0.0051 - acc: 0.9986 - val_loss: 0.0695 - val_acc: 0.9849\n",
      "Epoch 40/80\n",
      "1875/1875 [==============================] - 9s 5ms/step - loss: 0.0041 - acc: 0.9989 - val_loss: 0.0687 - val_acc: 0.9852\n",
      "Epoch 41/80\n",
      "1875/1875 [==============================] - 9s 5ms/step - loss: 0.0043 - acc: 0.9987 - val_loss: 0.0704 - val_acc: 0.9844\n",
      "Epoch 42/80\n",
      "1875/1875 [==============================] - 8s 4ms/step - loss: 0.0034 - acc: 0.9991 - val_loss: 0.0747 - val_acc: 0.9844\n",
      "Epoch 43/80\n",
      "1875/1875 [==============================] - 9s 5ms/step - loss: 0.0038 - acc: 0.9991 - val_loss: 0.0727 - val_acc: 0.9842\n",
      "Epoch 44/80\n",
      "1875/1875 [==============================] - 9s 5ms/step - loss: 0.0039 - acc: 0.9989 - val_loss: 0.0733 - val_acc: 0.9841\n",
      "Epoch 45/80\n",
      "1875/1875 [==============================] - 8s 5ms/step - loss: 0.0034 - acc: 0.9991 - val_loss: 0.0698 - val_acc: 0.9843\n",
      "Epoch 46/80\n",
      "1875/1875 [==============================] - 9s 5ms/step - loss: 0.0034 - acc: 0.9991 - val_loss: 0.0738 - val_acc: 0.9833\n",
      "Epoch 47/80\n",
      "1875/1875 [==============================] - 9s 5ms/step - loss: 0.0032 - acc: 0.9992 - val_loss: 0.0742 - val_acc: 0.9847\n",
      "Epoch 48/80\n",
      "1875/1875 [==============================] - 9s 5ms/step - loss: 0.0032 - acc: 0.9992 - val_loss: 0.0747 - val_acc: 0.9843\n",
      "Epoch 49/80\n",
      "1875/1875 [==============================] - 11s 6ms/step - loss: 0.0027 - acc: 0.9994 - val_loss: 0.0737 - val_acc: 0.9847\n",
      "Epoch 50/80\n",
      "1875/1875 [==============================] - 16s 9ms/step - loss: 0.0030 - acc: 0.9992 - val_loss: 0.0769 - val_acc: 0.9840\n",
      "Epoch 51/80\n",
      "1875/1875 [==============================] - 21s 11ms/step - loss: 0.0026 - acc: 0.9994 - val_loss: 0.0771 - val_acc: 0.9852\n",
      "Epoch 52/80\n",
      "1875/1875 [==============================] - 21s 11ms/step - loss: 0.0025 - acc: 0.9993 - val_loss: 0.0748 - val_acc: 0.9854\n",
      "Epoch 53/80\n",
      "1875/1875 [==============================] - 21s 11ms/step - loss: 0.0025 - acc: 0.9994 - val_loss: 0.0786 - val_acc: 0.9842\n",
      "Epoch 54/80\n",
      "1875/1875 [==============================] - 20s 11ms/step - loss: 0.0022 - acc: 0.9995 - val_loss: 0.0784 - val_acc: 0.9850\n",
      "Epoch 55/80\n",
      "1875/1875 [==============================] - 16s 9ms/step - loss: 0.0021 - acc: 0.9994 - val_loss: 0.0801 - val_acc: 0.9857\n",
      "Epoch 56/80\n",
      "1875/1875 [==============================] - 9s 5ms/step - loss: 0.0024 - acc: 0.9994 - val_loss: 0.0798 - val_acc: 0.9834\n",
      "Epoch 57/80\n",
      "1875/1875 [==============================] - 9s 5ms/step - loss: 0.0021 - acc: 0.9996 - val_loss: 0.0783 - val_acc: 0.9853\n",
      "Epoch 58/80\n",
      "1875/1875 [==============================] - 13s 7ms/step - loss: 0.0022 - acc: 0.9995 - val_loss: 0.0765 - val_acc: 0.9857\n",
      "Epoch 59/80\n",
      "1875/1875 [==============================] - 9s 5ms/step - loss: 0.0021 - acc: 0.9995 - val_loss: 0.0779 - val_acc: 0.9843\n",
      "Epoch 60/80\n",
      "1875/1875 [==============================] - 9s 5ms/step - loss: 0.0017 - acc: 0.9995 - val_loss: 0.0820 - val_acc: 0.9850\n",
      "Epoch 61/80\n",
      "1875/1875 [==============================] - 9s 5ms/step - loss: 0.0018 - acc: 0.9995 - val_loss: 0.0785 - val_acc: 0.9844\n",
      "Epoch 62/80\n",
      "1875/1875 [==============================] - 11s 6ms/step - loss: 0.0016 - acc: 0.9995 - val_loss: 0.0847 - val_acc: 0.9843\n",
      "Epoch 63/80\n",
      "1875/1875 [==============================] - 9s 5ms/step - loss: 0.0018 - acc: 0.9995 - val_loss: 0.0793 - val_acc: 0.9850\n",
      "Epoch 64/80\n",
      "1875/1875 [==============================] - 10s 5ms/step - loss: 0.0017 - acc: 0.9996 - val_loss: 0.0835 - val_acc: 0.9849\n",
      "Epoch 65/80\n",
      "1875/1875 [==============================] - 11s 6ms/step - loss: 0.0019 - acc: 0.9995 - val_loss: 0.0819 - val_acc: 0.9847\n",
      "Epoch 66/80\n",
      "1875/1875 [==============================] - 9s 5ms/step - loss: 0.0017 - acc: 0.9995 - val_loss: 0.0840 - val_acc: 0.9847\n",
      "Epoch 67/80\n",
      "1875/1875 [==============================] - 10s 5ms/step - loss: 0.0015 - acc: 0.9996 - val_loss: 0.0844 - val_acc: 0.9844\n",
      "Epoch 68/80\n",
      "1875/1875 [==============================] - 10s 5ms/step - loss: 0.0016 - acc: 0.9996 - val_loss: 0.0862 - val_acc: 0.9851\n",
      "Epoch 69/80\n",
      "1875/1875 [==============================] - 9s 5ms/step - loss: 0.0013 - acc: 0.9997 - val_loss: 0.0855 - val_acc: 0.9856\n",
      "Epoch 70/80\n",
      "1875/1875 [==============================] - 12s 6ms/step - loss: 0.0015 - acc: 0.9996 - val_loss: 0.0850 - val_acc: 0.9849\n",
      "Epoch 71/80\n",
      "1875/1875 [==============================] - 13s 7ms/step - loss: 0.0016 - acc: 0.9996 - val_loss: 0.0854 - val_acc: 0.9857\n",
      "Epoch 72/80\n",
      "1875/1875 [==============================] - 10s 6ms/step - loss: 0.0015 - acc: 0.9995 - val_loss: 0.0850 - val_acc: 0.9853\n",
      "Epoch 73/80\n",
      "1875/1875 [==============================] - 9s 5ms/step - loss: 0.0011 - acc: 0.9997 - val_loss: 0.0875 - val_acc: 0.9851\n",
      "Epoch 74/80\n",
      "1875/1875 [==============================] - 10s 5ms/step - loss: 0.0012 - acc: 0.9997 - val_loss: 0.0879 - val_acc: 0.9845\n",
      "Epoch 75/80\n",
      "1875/1875 [==============================] - 10s 5ms/step - loss: 9.9901e-04 - acc: 0.9998 - val_loss: 0.0916 - val_acc: 0.9846\n",
      "Epoch 76/80\n",
      "1875/1875 [==============================] - 9s 5ms/step - loss: 0.0014 - acc: 0.9996 - val_loss: 0.0919 - val_acc: 0.9848\n",
      "Epoch 77/80\n",
      "1875/1875 [==============================] - 9s 5ms/step - loss: 0.0012 - acc: 0.9996 - val_loss: 0.0924 - val_acc: 0.9837\n",
      "Epoch 78/80\n",
      "1875/1875 [==============================] - 9s 5ms/step - loss: 0.0011 - acc: 0.9997 - val_loss: 0.0894 - val_acc: 0.9857\n",
      "Epoch 79/80\n",
      "1875/1875 [==============================] - 9s 5ms/step - loss: 0.0011 - acc: 0.9997 - val_loss: 0.0880 - val_acc: 0.9858\n",
      "Epoch 80/80\n",
      "1875/1875 [==============================] - 9s 5ms/step - loss: 0.0011 - acc: 0.9997 - val_loss: 0.0911 - val_acc: 0.9848\n"
     ]
    }
   ],
   "source": [
    "# training parameters\n",
    "batch_size = 32\n",
    "epochs = 80\n",
    "\n",
    "# create the deep neural net\n",
    "model_DNN = compile_model5()\n",
    "\n",
    "# train DNN and store training info in history\n",
    "history = model_DNN.fit(X_train, Y_train,\n",
    "          batch_size=batch_size,\n",
    "          epochs=epochs,\n",
    "          verbose=1,\n",
    "          validation_data=(X_test, Y_test))"
   ]
  },
  {
   "cell_type": "code",
   "execution_count": 8,
   "metadata": {},
   "outputs": [
    {
     "name": "stdout",
     "output_type": "stream",
     "text": [
      "313/313 [==============================] - 1s 3ms/step - loss: 0.0911 - acc: 0.9848\n",
      "\n",
      "Test loss: 0.09105109423398972\n",
      "Test acc: 0.9847999811172485\n"
     ]
    },
    {
     "data": {
      "image/png": "[encoded data removed]",
      "text/plain": [
       "<Figure size 640x480 with 1 Axes>"
      ]
     },
     "metadata": {},
     "output_type": "display_data"
    },
    {
     "data": {
      "image/png": "[encoded data removed]",
      "text/plain": [
       "<Figure size 640x480 with 1 Axes>"
      ]
     },
     "metadata": {},
     "output_type": "display_data"
    }
   ],
   "source": [
    "# Evaluate the model\n",
    "score = model_DNN.evaluate(X_test, Y_test, verbose=1)\n",
    "\n",
    "# Print performance\n",
    "print()\n",
    "print('Test loss:', score[0])\n",
    "print('Test acc:', score[1])\n",
    "\n",
    "# Summarize history for acc\n",
    "plt.plot(history.history['acc'])\n",
    "plt.plot(history.history['val_acc'])\n",
    "plt.ylabel('Model accuracy')\n",
    "plt.xlabel('Epoch')\n",
    "plt.legend(['Train', 'Test'], loc='best')\n",
    "plt.show()\n",
    "\n",
    "# Summarize history for loss\n",
    "plt.plot(history.history['loss'])\n",
    "plt.plot(history.history['val_loss'])\n",
    "plt.ylabel('Model Loss')\n",
    "plt.xlabel('Epoch')\n",
    "plt.legend(['Train', 'Test'], loc='best')\n",
    "plt.show()\n",
    "\n",
    "# Write history to a .dat file in columnar format with spaces as delimiter\n",
    "with open('training_history_adamax.dat', 'w') as f:\n",
    "    # Write the header\n",
    "    f.write('Epoch accuracy Validation_accuracy Loss Validation_Loss\\n')\n",
    "    # Write the data\n",
    "    for i in range(len(history.history['acc'])):\n",
    "        f.write(f\"{i+1}  {history.history['acc'][i]}  {history.history['val_acc'][i]}  {history.history['loss'][i]}  {history.history['val_loss'][i]}\\n\")\n"
   ]
  },
  {
   "cell_type": "code",
   "execution_count": 9,
   "metadata": {},
   "outputs": [
    {
     "name": "stdout",
     "output_type": "stream",
     "text": [
      "313/313 [==============================] - 1s 3ms/step\n"
     ]
    }
   ],
   "source": [
    "#X_test = X_test.reshape(X_test.shape[0], img_rows*img_cols)\n",
    "predictions = model_DNN.predict(X_test)\n",
    "\n",
    "X_test = X_test.reshape(X_test.shape[0], img_rows, img_cols,1)\n",
    "\n",
    "#plt.figure(figsize=(15, 15)) \n",
    "with open(\"predizioni_adamax.dat\", \"w\") as f:\n",
    "    for i in range(10000):\n",
    "        #ax = plt.subplot(2, 10, i + 1)\n",
    "        #plt.imshow(X_test[i, :, :, 0], cmap='gray')\n",
    "        true_digit = np.argmax(Y_test[i])\n",
    "        predicted_digit = np.argmax(predictions[i])\n",
    "        #plt.title(\"Digit: {}\\nPredicted:  {}\".format(true_digit, predicted_digit))\n",
    "        #plt.axis('off')\n",
    "\n",
    "        # Scrive la cifra predetta nel file\n",
    "        f.write(f\"{i + 1}   {true_digit}   {predicted_digit}\\n\")"
   ]
  },
  {
   "cell_type": "code",
   "execution_count": 10,
   "metadata": {},
   "outputs": [
    {
     "name": "stderr",
     "output_type": "stream",
     "text": [
      "/home/matteo/anaconda3/envs/tf/lib/python3.9/site-packages/keras/src/engine/training.py:3103: UserWarning: You are saving your model as an HDF5 file via `model.save()`. This file format is considered legacy. We recommend using instead the native Keras format, e.g. `model.save('my_model.keras')`.\n",
      "  saving_api.save_model(\n"
     ]
    }
   ],
   "source": [
    "# Supponendo che 'model' sia il tuo modello addestrato\n",
    "model_DNN.save('adamax.h5')"
   ]
  }
 ],
 "metadata": {
  "kernelspec": {
   "display_name": "tf",
   "language": "python",
   "name": "python3"
  },
  "language_info": {
   "codemirror_mode": {
    "name": "ipython",
    "version": 3
   },
   "file_extension": ".py",
   "mimetype": "text/x-python",
   "name": "python",
   "nbconvert_exporter": "python",
   "pygments_lexer": "ipython3",
   "version": "3.9.18"
  }
 },
 "nbformat": 4,
 "nbformat_minor": 2
}
