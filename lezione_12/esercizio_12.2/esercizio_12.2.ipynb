{
 "cells": [
  {
   "cell_type": "markdown",
   "metadata": {},
   "source": [
    "# Esercizio 12.2"
   ]
  },
  {
   "cell_type": "code",
   "execution_count": 1,
   "metadata": {},
   "outputs": [
    {
     "name": "stderr",
     "output_type": "stream",
     "text": [
      "2024-06-07 19:43:02.486845: I tensorflow/core/util/port.cc:113] oneDNN custom operations are on. You may see slightly different numerical results due to floating-point round-off errors from different computation orders. To turn them off, set the environment variable `TF_ENABLE_ONEDNN_OPTS=0`.\n",
      "2024-06-07 19:43:02.492389: I external/local_tsl/tsl/cuda/cudart_stub.cc:31] Could not find cuda drivers on your machine, GPU will not be used.\n",
      "2024-06-07 19:43:02.550157: E external/local_xla/xla/stream_executor/cuda/cuda_dnn.cc:9261] Unable to register cuDNN factory: Attempting to register factory for plugin cuDNN when one has already been registered\n",
      "2024-06-07 19:43:02.550188: E external/local_xla/xla/stream_executor/cuda/cuda_fft.cc:607] Unable to register cuFFT factory: Attempting to register factory for plugin cuFFT when one has already been registered\n",
      "2024-06-07 19:43:02.551187: E external/local_xla/xla/stream_executor/cuda/cuda_blas.cc:1515] Unable to register cuBLAS factory: Attempting to register factory for plugin cuBLAS when one has already been registered\n",
      "2024-06-07 19:43:02.559503: I external/local_tsl/tsl/cuda/cudart_stub.cc:31] Could not find cuda drivers on your machine, GPU will not be used.\n",
      "2024-06-07 19:43:02.560644: I tensorflow/core/platform/cpu_feature_guard.cc:182] This TensorFlow binary is optimized to use available CPU instructions in performance-critical operations.\n",
      "To enable the following instructions: AVX2 AVX512F AVX512_VNNI FMA, in other operations, rebuild TensorFlow with the appropriate compiler flags.\n",
      "2024-06-07 19:43:03.417571: W tensorflow/compiler/tf2tensorrt/utils/py_utils.cc:38] TF-TRT Warning: Could not find TensorRT\n"
     ]
    }
   ],
   "source": [
    "import tensorflow as tf\n",
    "from tensorflow import keras\n",
    "import os\n",
    "import numpy as np\n",
    "import matplotlib.pyplot as plt\n",
    "seed=0\n",
    "np.random.seed(seed) # fix random seed\n",
    "tf.random.set_seed(seed)"
   ]
  },
  {
   "cell_type": "code",
   "execution_count": 2,
   "metadata": {},
   "outputs": [
    {
     "name": "stdout",
     "output_type": "stream",
     "text": [
      "X_train shape: (60000, 28, 28)\n",
      "Y_train shape: (60000,)\n"
     ]
    }
   ],
   "source": [
    "from keras.datasets import mnist\n",
    "\n",
    "# input image dimensions\n",
    "img_rows, img_cols = 28, 28 # number of pixels \n",
    "# output\n",
    "num_classes = 10 # 10 digits\n",
    "\n",
    "# the data, split between train and test sets\n",
    "(X_train, Y_train), (X_test, Y_test) = mnist.load_data()\n",
    "\n",
    "print('X_train shape:', X_train.shape)\n",
    "print('Y_train shape:', Y_train.shape)"
   ]
  },
  {
   "cell_type": "code",
   "execution_count": 3,
   "metadata": {},
   "outputs": [
    {
     "data": {
      "text/plain": [
       "array([[1., 0., 0.],\n",
       "       [0., 0., 1.],\n",
       "       [0., 1., 0.],\n",
       "       [0., 0., 1.],\n",
       "       [1., 0., 0.]], dtype=float32)"
      ]
     },
     "execution_count": 3,
     "metadata": {},
     "output_type": "execute_result"
    }
   ],
   "source": [
    "# Consider an array of 5 labels out of a set of 3 classes {0, 1, 2}:\n",
    "labels = np.array([0, 2, 1, 2, 0])\n",
    "# `to_categorical` converts this into a matrix with as many columns as there are classes.\n",
    "# The number of rows stays the same.\n",
    "keras.utils.to_categorical(labels) # accende la posizione"
   ]
  },
  {
   "cell_type": "code",
   "execution_count": 4,
   "metadata": {},
   "outputs": [
    {
     "name": "stdout",
     "output_type": "stream",
     "text": [
      "X_train shape: (60000, 784)\n",
      "X_test shape: (10000, 784)\n",
      "\n",
      "an example of a data point with label 4\n"
     ]
    },
    {
     "data": {
      "image/png": "[encoded data removed]",
      "text/plain": [
       "<Figure size 480x480 with 1 Axes>"
      ]
     },
     "metadata": {},
     "output_type": "display_data"
    },
    {
     "name": "stdout",
     "output_type": "stream",
     "text": [
      "... and with label [0. 0. 0. 0. 1. 0. 0. 0. 0. 0.] after to_categorical\n",
      "\n",
      "X_train shape: (60000, 784)\n",
      "Y_train shape: (60000, 10)\n"
     ]
    }
   ],
   "source": [
    "# reshape data, it could depend on Keras backend\n",
    "X_train = X_train.reshape(X_train.shape[0], img_rows*img_cols)\n",
    "X_test = X_test.reshape(X_test.shape[0], img_rows*img_cols)\n",
    "print('X_train shape:', X_train.shape)\n",
    "print('X_test shape:', X_test.shape)\n",
    "print()\n",
    "\n",
    "# cast to floats\n",
    "X_train = X_train.astype('float32')\n",
    "X_test = X_test.astype('float32')\n",
    "\n",
    "# rescale data in interval [0,1]\n",
    "X_train /= 255\n",
    "X_test /= 255\n",
    "\n",
    "# look at an example of data point\n",
    "print('an example of a data point with label', Y_train[20])\n",
    "# matshow: display a matrix in a new figure window\n",
    "plt.matshow(X_train[20,:].reshape(28,28),cmap='binary')\n",
    "plt.show()\n",
    "\n",
    "# convert class vectors to binary class matrices, e.g. for use with categorical_crossentropy\n",
    "Y_train = keras.utils.to_categorical(Y_train, num_classes)\n",
    "Y_test = keras.utils.to_categorical(Y_test, num_classes)\n",
    "print('... and with label', Y_train[20], 'after to_categorical')\n",
    "print()\n",
    "print('X_train shape:', X_train.shape)\n",
    "print('Y_train shape:', Y_train.shape)"
   ]
  },
  {
   "cell_type": "code",
   "execution_count": 5,
   "metadata": {},
   "outputs": [
    {
     "name": "stdout",
     "output_type": "stream",
     "text": [
      "X_train shape: (60000, 28, 28, 1)\n",
      "Y_train shape: (60000, 10)\n",
      "\n",
      "60000 train samples\n",
      "10000 test samples\n"
     ]
    }
   ],
   "source": [
    "# reshape data, depending on Keras backend\n",
    "if keras.backend.image_data_format() == 'channels_first':\n",
    "    X_train = X_train.reshape(X_train.shape[0], 1, img_rows, img_cols)\n",
    "    X_test = X_test.reshape(X_test.shape[0], 1, img_rows, img_cols)\n",
    "    input_shape = (1, img_rows, img_cols)\n",
    "else:\n",
    "    X_train = X_train.reshape(X_train.shape[0], img_rows, img_cols, 1)\n",
    "    X_test = X_test.reshape(X_test.shape[0], img_rows, img_cols, 1)\n",
    "    input_shape = (img_rows, img_cols, 1)\n",
    "    \n",
    "print('X_train shape:', X_train.shape)\n",
    "print('Y_train shape:', Y_train.shape)\n",
    "print()\n",
    "print(X_train.shape[0], 'train samples')\n",
    "print(X_test.shape[0], 'test samples')"
   ]
  },
  {
   "cell_type": "code",
   "execution_count": 6,
   "metadata": {},
   "outputs": [
    {
     "name": "stdout",
     "output_type": "stream",
     "text": [
      "Model: \"sequential\"\n",
      "_________________________________________________________________\n",
      " Layer (type)                Output Shape              Param #   \n",
      "=================================================================\n",
      " conv2d (Conv2D)             (None, 28, 28, 10)        260       \n",
      "                                                                 \n",
      " max_pooling2d (MaxPooling2  (None, 14, 14, 10)        0         \n",
      " D)                                                              \n",
      "                                                                 \n",
      " conv2d_1 (Conv2D)           (None, 10, 10, 16)        4016      \n",
      "                                                                 \n",
      " max_pooling2d_1 (MaxPoolin  (None, 5, 5, 16)          0         \n",
      " g2D)                                                            \n",
      "                                                                 \n",
      " flatten (Flatten)           (None, 400)               0         \n",
      "                                                                 \n",
      " dropout (Dropout)           (None, 400)               0         \n",
      "                                                                 \n",
      " dense (Dense)               (None, 200)               80200     \n",
      "                                                                 \n",
      " dense_1 (Dense)             (None, 100)               20100     \n",
      "                                                                 \n",
      " dropout_1 (Dropout)         (None, 100)               0         \n",
      "                                                                 \n",
      " dense_2 (Dense)             (None, 10)                1010      \n",
      "                                                                 \n",
      "=================================================================\n",
      "Total params: 105586 (412.45 KB)\n",
      "Trainable params: 105586 (412.45 KB)\n",
      "Non-trainable params: 0 (0.00 Byte)\n",
      "_________________________________________________________________\n"
     ]
    }
   ],
   "source": [
    "from keras.models import Sequential\n",
    "from keras.layers import Dense, Dropout, Conv2D, MaxPooling2D, Flatten\n",
    "\n",
    "def create_CNN1(input_shape=(28, 28, 1), num_classes=10):\n",
    "    \n",
    "    model = Sequential()\n",
    "    \n",
    "    model.add(Conv2D(10, kernel_size=(5, 5), activation='relu', padding='same', input_shape=input_shape))\n",
    "    \n",
    "    model.add(MaxPooling2D(pool_size=(2, 2))) \n",
    "    \n",
    "    model.add(Conv2D(16, kernel_size=(5, 5), activation='relu'))\n",
    "    \n",
    "    model.add(MaxPooling2D(pool_size=(2, 2)))\n",
    "    \n",
    "    model.add(Flatten())\n",
    "    \n",
    "    model.add(Dropout(0.25))\n",
    "    \n",
    "    model.add(Dense(200, activation='relu'))\n",
    "\n",
    "    model.add(Dense(100, activation='relu'))\n",
    "    \n",
    "    model.add(Dropout(0.25))\n",
    "    \n",
    "    model.add(Dense(num_classes, activation='softmax'))\n",
    "    \n",
    "    model.compile(loss='categorical_crossentropy',\n",
    "                  optimizer='SGD',\n",
    "                  metrics=['accuracy'])\n",
    "    return model\n",
    "\n",
    "def create_CNN2(input_shape=(28, 28, 1), num_classes=10):\n",
    "    \n",
    "    model = Sequential()\n",
    "    \n",
    "    model.add(Conv2D(10, kernel_size=(5, 5), activation='relu', padding='same', input_shape=input_shape))\n",
    "    \n",
    "    model.add(MaxPooling2D(pool_size=(2, 2))) \n",
    "    \n",
    "    model.add(Conv2D(16, kernel_size=(5, 5), activation='relu'))\n",
    "    \n",
    "    model.add(MaxPooling2D(pool_size=(2, 2)))\n",
    "    \n",
    "    model.add(Flatten())\n",
    "    \n",
    "    model.add(Dropout(0.0))\n",
    "    \n",
    "    model.add(Dense(200, activation='relu'))\n",
    "\n",
    "    model.add(Dense(100, activation='relu'))\n",
    "    \n",
    "    model.add(Dropout(0.0))\n",
    "    \n",
    "    model.add(Dense(num_classes, activation='softmax'))\n",
    "    \n",
    "    model.compile(loss='categorical_crossentropy',\n",
    "                  optimizer='SGD',\n",
    "                  metrics=['accuracy'])\n",
    "    return model\n",
    "\n",
    "def create_CNN3(input_shape=(28, 28, 1), num_classes=10):\n",
    "    \n",
    "    model = Sequential()\n",
    "    \n",
    "    model.add(Conv2D(30, kernel_size=(5, 5), activation='relu', padding='same', input_shape=input_shape))\n",
    "    \n",
    "    model.add(MaxPooling2D(pool_size=(2, 2))) \n",
    "    \n",
    "    model.add(Conv2D(36, kernel_size=(5, 5), activation='relu'))\n",
    "    \n",
    "    model.add(MaxPooling2D(pool_size=(2, 2)))\n",
    "    \n",
    "    model.add(Flatten())\n",
    "    \n",
    "    model.add(Dropout(0.25))\n",
    "    \n",
    "    model.add(Dense(200, activation='relu'))\n",
    "\n",
    "    model.add(Dense(100, activation='relu'))\n",
    "    \n",
    "    model.add(Dropout(0.25))\n",
    "    \n",
    "    model.add(Dense(num_classes, activation='softmax'))\n",
    "    \n",
    "    model.compile(loss='categorical_crossentropy',\n",
    "                  optimizer='SGD',\n",
    "                  metrics=['accuracy'])\n",
    "    return model\n",
    "\n",
    "\n",
    "def create_CNN4(input_shape=(28, 28, 1), num_classes=10):\n",
    "    \n",
    "    model = Sequential()\n",
    "    \n",
    "    model.add(Conv2D(2, kernel_size=(5, 5), activation='relu', padding='same', input_shape=input_shape))\n",
    "    \n",
    "    model.add(MaxPooling2D(pool_size=(2, 2))) \n",
    "    \n",
    "    model.add(Conv2D(5, kernel_size=(5, 5), activation='relu'))\n",
    "    \n",
    "    model.add(MaxPooling2D(pool_size=(2, 2)))\n",
    "    \n",
    "    model.add(Flatten())\n",
    "    \n",
    "    model.add(Dropout(0.25))\n",
    "    \n",
    "    model.add(Dense(200, activation='relu'))\n",
    "\n",
    "    model.add(Dense(100, activation='relu'))\n",
    "    \n",
    "    model.add(Dropout(0.25))\n",
    "    \n",
    "    model.add(Dense(num_classes, activation='softmax'))\n",
    "    \n",
    "    model.compile(loss='categorical_crossentropy',\n",
    "                  optimizer='SGD',\n",
    "                  metrics=['accuracy'])\n",
    "    return model\n",
    "\n",
    "\n",
    "model_CNN = create_CNN1()\n",
    "\n",
    "model_CNN.summary()\n"
   ]
  },
  {
   "cell_type": "code",
   "execution_count": 7,
   "metadata": {},
   "outputs": [
    {
     "name": "stdout",
     "output_type": "stream",
     "text": [
      "Epoch 1/40\n",
      "1875/1875 [==============================] - 12s 6ms/step - loss: 0.7717 - accuracy: 0.7420 - val_loss: 0.1519 - val_accuracy: 0.9537\n",
      "Epoch 2/40\n",
      "1875/1875 [==============================] - 11s 6ms/step - loss: 0.2161 - accuracy: 0.9339 - val_loss: 0.1076 - val_accuracy: 0.9662\n",
      "Epoch 3/40\n",
      "1875/1875 [==============================] - 11s 6ms/step - loss: 0.1563 - accuracy: 0.9524 - val_loss: 0.0753 - val_accuracy: 0.9763\n",
      "Epoch 4/40\n",
      "1875/1875 [==============================] - 11s 6ms/step - loss: 0.1316 - accuracy: 0.9603 - val_loss: 0.0658 - val_accuracy: 0.9790\n",
      "Epoch 5/40\n",
      "1875/1875 [==============================] - 10s 5ms/step - loss: 0.1127 - accuracy: 0.9653 - val_loss: 0.0581 - val_accuracy: 0.9819\n",
      "Epoch 6/40\n",
      "1875/1875 [==============================] - 9s 5ms/step - loss: 0.1020 - accuracy: 0.9689 - val_loss: 0.0498 - val_accuracy: 0.9836\n",
      "Epoch 7/40\n",
      "1875/1875 [==============================] - 12s 6ms/step - loss: 0.0931 - accuracy: 0.9712 - val_loss: 0.0455 - val_accuracy: 0.9859\n",
      "Epoch 8/40\n",
      "1875/1875 [==============================] - 12s 6ms/step - loss: 0.0876 - accuracy: 0.9724 - val_loss: 0.0464 - val_accuracy: 0.9851\n",
      "Epoch 9/40\n",
      "1875/1875 [==============================] - 11s 6ms/step - loss: 0.0833 - accuracy: 0.9745 - val_loss: 0.0427 - val_accuracy: 0.9857\n",
      "Epoch 10/40\n",
      "1875/1875 [==============================] - 12s 6ms/step - loss: 0.0753 - accuracy: 0.9771 - val_loss: 0.0382 - val_accuracy: 0.9874\n",
      "Epoch 11/40\n",
      "1875/1875 [==============================] - 11s 6ms/step - loss: 0.0738 - accuracy: 0.9777 - val_loss: 0.0371 - val_accuracy: 0.9878\n",
      "Epoch 12/40\n",
      "1875/1875 [==============================] - 10s 5ms/step - loss: 0.0693 - accuracy: 0.9783 - val_loss: 0.0349 - val_accuracy: 0.9889\n",
      "Epoch 13/40\n",
      "1875/1875 [==============================] - 8s 4ms/step - loss: 0.0653 - accuracy: 0.9804 - val_loss: 0.0333 - val_accuracy: 0.9886\n",
      "Epoch 14/40\n",
      "1875/1875 [==============================] - 8s 4ms/step - loss: 0.0639 - accuracy: 0.9803 - val_loss: 0.0311 - val_accuracy: 0.9901\n",
      "Epoch 15/40\n",
      "1875/1875 [==============================] - 8s 4ms/step - loss: 0.0604 - accuracy: 0.9815 - val_loss: 0.0278 - val_accuracy: 0.9915\n",
      "Epoch 16/40\n",
      "1875/1875 [==============================] - 8s 4ms/step - loss: 0.0583 - accuracy: 0.9815 - val_loss: 0.0320 - val_accuracy: 0.9897\n",
      "Epoch 17/40\n",
      "1875/1875 [==============================] - 8s 4ms/step - loss: 0.0548 - accuracy: 0.9831 - val_loss: 0.0283 - val_accuracy: 0.9906\n",
      "Epoch 18/40\n",
      "1875/1875 [==============================] - 8s 4ms/step - loss: 0.0550 - accuracy: 0.9825 - val_loss: 0.0275 - val_accuracy: 0.9906\n",
      "Epoch 19/40\n",
      "1875/1875 [==============================] - 9s 5ms/step - loss: 0.0519 - accuracy: 0.9837 - val_loss: 0.0322 - val_accuracy: 0.9890\n",
      "Epoch 20/40\n",
      "1875/1875 [==============================] - 9s 5ms/step - loss: 0.0521 - accuracy: 0.9837 - val_loss: 0.0293 - val_accuracy: 0.9905\n",
      "Epoch 21/40\n",
      "1875/1875 [==============================] - 8s 4ms/step - loss: 0.0507 - accuracy: 0.9836 - val_loss: 0.0256 - val_accuracy: 0.9919\n",
      "Epoch 22/40\n",
      "1875/1875 [==============================] - 8s 5ms/step - loss: 0.0478 - accuracy: 0.9851 - val_loss: 0.0274 - val_accuracy: 0.9906\n",
      "Epoch 23/40\n",
      "1875/1875 [==============================] - 8s 4ms/step - loss: 0.0485 - accuracy: 0.9844 - val_loss: 0.0274 - val_accuracy: 0.9907\n",
      "Epoch 24/40\n",
      "1875/1875 [==============================] - 8s 4ms/step - loss: 0.0454 - accuracy: 0.9856 - val_loss: 0.0265 - val_accuracy: 0.9915\n",
      "Epoch 25/40\n",
      "1875/1875 [==============================] - 11s 6ms/step - loss: 0.0473 - accuracy: 0.9850 - val_loss: 0.0275 - val_accuracy: 0.9907\n",
      "Epoch 26/40\n",
      "1875/1875 [==============================] - 10s 6ms/step - loss: 0.0453 - accuracy: 0.9858 - val_loss: 0.0264 - val_accuracy: 0.9903\n",
      "Epoch 27/40\n",
      "1875/1875 [==============================] - 13s 7ms/step - loss: 0.0414 - accuracy: 0.9870 - val_loss: 0.0261 - val_accuracy: 0.9907\n",
      "Epoch 28/40\n",
      "1875/1875 [==============================] - 12s 6ms/step - loss: 0.0402 - accuracy: 0.9872 - val_loss: 0.0230 - val_accuracy: 0.9916\n",
      "Epoch 29/40\n",
      "1875/1875 [==============================] - 10s 5ms/step - loss: 0.0393 - accuracy: 0.9873 - val_loss: 0.0226 - val_accuracy: 0.9923\n",
      "Epoch 30/40\n",
      "1875/1875 [==============================] - 10s 5ms/step - loss: 0.0405 - accuracy: 0.9874 - val_loss: 0.0232 - val_accuracy: 0.9924\n",
      "Epoch 31/40\n",
      "1875/1875 [==============================] - 10s 5ms/step - loss: 0.0401 - accuracy: 0.9873 - val_loss: 0.0232 - val_accuracy: 0.9913\n",
      "Epoch 32/40\n",
      "1875/1875 [==============================] - 10s 5ms/step - loss: 0.0374 - accuracy: 0.9882 - val_loss: 0.0238 - val_accuracy: 0.9914\n",
      "Epoch 33/40\n",
      "1875/1875 [==============================] - 10s 5ms/step - loss: 0.0395 - accuracy: 0.9873 - val_loss: 0.0242 - val_accuracy: 0.9910\n",
      "Epoch 34/40\n",
      "1875/1875 [==============================] - 10s 5ms/step - loss: 0.0356 - accuracy: 0.9887 - val_loss: 0.0251 - val_accuracy: 0.9911\n",
      "Epoch 35/40\n",
      "1875/1875 [==============================] - 11s 6ms/step - loss: 0.0349 - accuracy: 0.9887 - val_loss: 0.0230 - val_accuracy: 0.9919\n",
      "Epoch 36/40\n",
      "1875/1875 [==============================] - 11s 6ms/step - loss: 0.0352 - accuracy: 0.9889 - val_loss: 0.0225 - val_accuracy: 0.9919\n",
      "Epoch 37/40\n",
      "1875/1875 [==============================] - 11s 6ms/step - loss: 0.0346 - accuracy: 0.9888 - val_loss: 0.0234 - val_accuracy: 0.9917\n",
      "Epoch 38/40\n",
      "1875/1875 [==============================] - 10s 6ms/step - loss: 0.0342 - accuracy: 0.9892 - val_loss: 0.0214 - val_accuracy: 0.9921\n",
      "Epoch 39/40\n",
      "1875/1875 [==============================] - 10s 5ms/step - loss: 0.0342 - accuracy: 0.9892 - val_loss: 0.0222 - val_accuracy: 0.9926\n",
      "Epoch 40/40\n",
      "1875/1875 [==============================] - 10s 5ms/step - loss: 0.0337 - accuracy: 0.9893 - val_loss: 0.0227 - val_accuracy: 0.9917\n",
      "313/313 [==============================] - 1s 3ms/step - loss: 0.0227 - accuracy: 0.9917\n",
      "\n",
      "Test loss: 0.022702369838953018\n",
      "Test accuracy: 0.9916999936103821\n"
     ]
    }
   ],
   "source": [
    "# training parameters\n",
    "batch_size = 32\n",
    "epochs = 40 # INSERT HERE AN ADEQUATE NUMBER OF EPOCHS!\n",
    "\n",
    "# train CNN\n",
    "history=model_CNN.fit(X_train, Y_train,\n",
    "          batch_size=batch_size,\n",
    "          epochs=epochs,\n",
    "          verbose=1,\n",
    "          validation_data=(X_test, Y_test))\n",
    "\n",
    "# evaliate model\n",
    "score = model_CNN.evaluate(X_test, Y_test, verbose=1)\n",
    "\n",
    "# print performance\n",
    "print()\n",
    "print('Test loss:', score[0])\n",
    "print('Test accuracy:', score[1])"
   ]
  },
  {
   "cell_type": "code",
   "execution_count": 8,
   "metadata": {},
   "outputs": [
    {
     "name": "stdout",
     "output_type": "stream",
     "text": [
      "313/313 [==============================] - 1s 3ms/step - loss: 0.0227 - accuracy: 0.9917\n",
      "\n",
      "Test loss: 0.022702369838953018\n",
      "Test accuracy: 0.9916999936103821\n"
     ]
    },
    {
     "data": {
      "image/png": "[encoded data removed]",
      "text/plain": [
       "<Figure size 640x480 with 1 Axes>"
      ]
     },
     "metadata": {},
     "output_type": "display_data"
    },
    {
     "data": {
      "image/png": "[encoded data removed]",
      "text/plain": [
       "<Figure size 640x480 with 1 Axes>"
      ]
     },
     "metadata": {},
     "output_type": "display_data"
    }
   ],
   "source": [
    "# Evaluate the model\n",
    "score = model_CNN.evaluate(X_test, Y_test, verbose=1)\n",
    "\n",
    "# Print performance\n",
    "print()\n",
    "print('Test loss:', score[0])\n",
    "print('Test accuracy:', score[1])\n",
    "\n",
    "# Summarize history for accuracy\n",
    "plt.plot(history.history['accuracy'])\n",
    "plt.plot(history.history['val_accuracy'])\n",
    "plt.ylabel('Model accuracyuracy')\n",
    "plt.xlabel('Epoch')\n",
    "plt.legend(['Train', 'Test'], loc='best')\n",
    "plt.show()\n",
    "\n",
    "# Summarize history for loss\n",
    "plt.plot(history.history['loss'])\n",
    "plt.plot(history.history['val_loss'])\n",
    "plt.ylabel('Model Loss')\n",
    "plt.xlabel('Epoch')\n",
    "plt.legend(['Train', 'Test'], loc='best')\n",
    "plt.show()\n",
    "\n",
    "# Write history to a .dat file in columnar format with spaces as delimiter\n",
    "with open('training_history_mod1.dat', 'w') as f:\n",
    "    # Write the header\n",
    "    f.write('Epoch accuracy  Validation_accuracy  Loss  Validation_Loss\\n')\n",
    "    # Write the data\n",
    "    for i in range(len(history.history['accuracy'])):\n",
    "        f.write(f\"{i+1}  {history.history['accuracy'][i]}  {history.history['val_accuracy'][i]}  {history.history['loss'][i]}  {history.history['val_loss'][i]}\\n\")\n"
   ]
  },
  {
   "cell_type": "code",
   "execution_count": 9,
   "metadata": {},
   "outputs": [
    {
     "name": "stdout",
     "output_type": "stream",
     "text": [
      "313/313 [==============================] - 1s 2ms/step\n"
     ]
    }
   ],
   "source": [
    "#X_test = X_test.reshape(X_test.shape[0], img_rows*img_cols)\n",
    "predictions = model_CNN.predict(X_test)\n",
    "\n",
    "X_test = X_test.reshape(X_test.shape[0], img_rows, img_cols,1)\n",
    "\n",
    "#plt.figure(figsize=(15, 15)) \n",
    "with open(\"predizioni_mod1.dat\", \"w\") as f:\n",
    "    for i in range(10000):\n",
    "        #ax = plt.subplot(2, 10, i + 1)\n",
    "        #plt.imshow(X_test[i, :, :, 0], cmap='gray')\n",
    "        true_digit = np.argmax(Y_test[i])\n",
    "        predicted_digit = np.argmax(predictions[i])\n",
    "        #plt.title(\"Digit: {}\\nPredicted:  {}\".format(true_digit, predicted_digit))\n",
    "        #plt.axis('off')\n",
    "\n",
    "        # Scrive la cifra predetta nel file\n",
    "        f.write(f\"{i + 1}   {true_digit}   {predicted_digit}\\n\")"
   ]
  },
  {
   "cell_type": "code",
   "execution_count": 10,
   "metadata": {},
   "outputs": [
    {
     "name": "stderr",
     "output_type": "stream",
     "text": [
      "/home/matteo/anaconda3/envs/tf/lib/python3.9/site-packages/keras/src/engine/training.py:3103: UserWarning: You are saving your model as an HDF5 file via `model.save()`. This file format is considered legacy. We recommend using instead the native Keras format, e.g. `model.save('my_model.keras')`.\n",
      "  saving_api.save_model(\n"
     ]
    }
   ],
   "source": [
    "# Supponendo che 'model' sia il tuo modello addestrato\n",
    "model_CNN.save('mod1.h5')"
   ]
  }
 ],
 "metadata": {
  "kernelspec": {
   "display_name": "tf",
   "language": "python",
   "name": "python3"
  },
  "language_info": {
   "codemirror_mode": {
    "name": "ipython",
    "version": 3
   },
   "file_extension": ".py",
   "mimetype": "text/x-python",
   "name": "python",
   "nbconvert_exporter": "python",
   "pygments_lexer": "ipython3",
   "version": "3.9.18"
  }
 },
 "nbformat": 4,
 "nbformat_minor": 2
}
